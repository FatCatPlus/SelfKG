{
 "cells": [
  {
   "cell_type": "markdown",
   "metadata": {},
   "source": [
    "### 分析SelfKG中failure case的分布\n"
   ]
  },
  {
   "cell_type": "code",
   "execution_count": null,
   "metadata": {},
   "outputs": [],
   "source": [
    "# coding: UTF-8\n",
    "import argparse\n",
    "import logging\n",
    "import os\n",
    "import random\n",
    "from datetime import datetime\n",
    "from posixpath import join\n",
    "\n",
    "import faiss\n",
    "import numpy as np\n",
    "import pandas as pd\n",
    "# using labse\n",
    "# from transformers import *\n",
    "import torch\n",
    "import torch.nn as nn\n",
    "import torch.nn.functional as F\n",
    "import torch.optim as optim\n",
    "import torch.utils.data as Data\n",
    "from torch.nn import *\n",
    "\n",
    "from loader.DBP15KRawNeighbors import DBP15KRawNeighbors\n",
    "from script.preprocess.deal_raw_dataset import MyRawdataset\n",
    "from settings import *"
   ]
  },
  {
   "cell_type": "code",
   "execution_count": null,
   "metadata": {},
   "outputs": [],
   "source": [
    "#读取ent_ids转换成id：url的字典\n",
    "ent_id = \"../../Datasets/dbp15k/dbp15k-fr-en-tgt/ent_ids_2\"\n",
    "\n",
    "id2enturl = {}\n",
    "with open(ent_id, 'r', encoding='utf-8') as f:\n",
    "    for line in f:\n",
    "        id_entity = line.strip().split('\\t')\n",
    "        id2enturl[int(id_entity[0])] = id_entity[1].strip()"
   ]
  },
  {
   "cell_type": "code",
   "execution_count": null,
   "metadata": {},
   "outputs": [],
   "source": [
    "#得到head rel tail的url\n",
    "from os.path import join\n",
    "from tqdm import *\n",
    "\n",
    "\n",
    "triple_path = \"../../Datasets/dbp15k/dbp15k-fr-en-tgt/triples_2\"\n",
    "path = \"../../Datasets/dbp15k/dbp15k-fr-en-tgt/\"\n",
    "name = \"rel_triples_whole_2\"\n",
    "h_2_t2rel_url = {}\n",
    "with open(join(path, name), 'r', encoding='utf-8') as f:\n",
    "    for line in tqdm(f):\n",
    "        h_r_t_url = line.strip().split('\\t')\n",
    "        h_url = h_r_t_url[0]\n",
    "        try:\n",
    "            r_url = h_r_t_url[1]\n",
    "        except:\n",
    "            continue\n",
    "        t_url = h_r_t_url[2]\n",
    "        if h_url in id2enturl.values() and t_url in id2enturl.values():\n",
    "            if not h_url in h_2_t2rel_url.keys():\n",
    "                h_2_t2rel_url[h_url] = {}\n",
    "#这个组织形式是head实体包含的所有triple，跟各个tail的关系。是这个head的tuple，是一跳的邻居\n",
    "            h_2_t2rel_url[h_url][t_url] = r_url"
   ]
  },
  {
   "cell_type": "code",
   "execution_count": null,
   "metadata": {},
   "outputs": [],
   "source": [
    "def fix_seed(seed=37):\n",
    "    random.seed(seed)\n",
    "    os.environ['PYTHONHASHSEED'] = str(seed)\n",
    "    np.random.seed(seed)\n",
    "    torch.manual_seed(seed)\n",
    "    torch.cuda.manual_seed_all(seed) # if you are using multi-GPU."
   ]
  }
 ],
 "metadata": {
  "kernelspec": {
   "display_name": "Python 3.9.14 ('selfkg')",
   "language": "python",
   "name": "python3"
  },
  "language_info": {
   "codemirror_mode": {
    "name": "ipython",
    "version": 3
   },
   "file_extension": ".py",
   "mimetype": "text/x-python",
   "name": "python",
   "nbconvert_exporter": "python",
   "pygments_lexer": "ipython3",
   "version": "3.9.14"
  },
  "orig_nbformat": 4,
  "vscode": {
   "interpreter": {
    "hash": "c10886b160ef380b9a9899d7cd46ed4ff0f65536336b80e7f9abe4df9e948776"
   }
  }
 },
 "nbformat": 4,
 "nbformat_minor": 2
}
