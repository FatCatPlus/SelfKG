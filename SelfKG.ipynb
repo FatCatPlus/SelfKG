{
 "cells": [
  {
   "cell_type": "markdown",
   "metadata": {},
   "source": [
    "### 分析SelfKG中failure case的分布\n"
   ]
  },
  {
   "cell_type": "code",
   "execution_count": 2,
   "metadata": {},
   "outputs": [],
   "source": [
    "# coding: UTF-8\n",
    "import argparse\n",
    "import logging\n",
    "import os\n",
    "import random\n",
    "from datetime import datetime\n",
    "from posixpath import join\n",
    "\n",
    "import faiss\n",
    "import numpy as np\n",
    "import pandas as pd\n",
    "# using labse\n",
    "# from transformers import *\n",
    "import torch\n",
    "import torch.nn as nn\n",
    "import torch.nn.functional as F\n",
    "import torch.optim as optim\n",
    "import torch.utils.data as Data\n",
    "from torch.nn import *\n",
    "\n",
    "from loader.DBP15KRawNeighbors import DBP15KRawNeighbors\n",
    "from script.preprocess.deal_raw_dataset import MyRawdataset\n",
    "from settings import *"
   ]
  },
  {
   "cell_type": "code",
   "execution_count": null,
   "metadata": {},
   "outputs": [],
   "source": [
    "#读取ent_ids转换成id：url的字典\n",
    "ent_id = \"../../Datasets/dbp15k/dbp15k-fr-en-tgt/ent_ids_2\"\n",
    "\n",
    "id2enturl = {}\n",
    "with open(ent_id, 'r', encoding='utf-8') as f:\n",
    "    for line in f:\n",
    "        id_entity = line.strip().split('\\t')\n",
    "        id2enturl[int(id_entity[0])] = id_entity[1].strip()"
   ]
  },
  {
   "cell_type": "code",
   "execution_count": null,
   "metadata": {},
   "outputs": [],
   "source": [
    "#得到head rel tail的url\n",
    "from os.path import join\n",
    "from tqdm import *\n",
    "\n",
    "\n",
    "triple_path = \"../../Datasets/dbp15k/dbp15k-fr-en-tgt/triples_2\"\n",
    "path = \"../../Datasets/dbp15k/dbp15k-fr-en-tgt/\"\n",
    "name = \"rel_triples_whole_2\"\n",
    "h_2_t2rel_url = {}\n",
    "with open(join(path, name), 'r', encoding='utf-8') as f:\n",
    "    for line in tqdm(f):\n",
    "        h_r_t_url = line.strip().split('\\t')\n",
    "        h_url = h_r_t_url[0]\n",
    "        try:\n",
    "            r_url = h_r_t_url[1]\n",
    "        except:\n",
    "            continue\n",
    "        t_url = h_r_t_url[2]\n",
    "        if h_url in id2enturl.values() and t_url in id2enturl.values():\n",
    "            if not h_url in h_2_t2rel_url.keys():\n",
    "                h_2_t2rel_url[h_url] = {}\n",
    "#这个组织形式是head实体包含的所有triple，跟各个tail的关系。是这个head的tuple，是一跳的邻居\n",
    "            h_2_t2rel_url[h_url][t_url] = r_url"
   ]
  },
  {
   "cell_type": "code",
   "execution_count": null,
   "metadata": {},
   "outputs": [],
   "source": [
    "def fix_seed(seed=37):\n",
    "    random.seed(seed)\n",
    "    os.environ['PYTHONHASHSEED'] = str(seed)\n",
    "    np.random.seed(seed)\n",
    "    torch.manual_seed(seed)\n",
    "    torch.cuda.manual_seed_all(seed) # if you are using multi-GPU."
   ]
  },
  {
   "cell_type": "code",
   "execution_count": null,
   "metadata": {},
   "outputs": [],
   "source": [
    "len(id_entity)"
   ]
  },
  {
   "cell_type": "markdown",
   "metadata": {},
   "source": [
    "### 代码组织结构\n",
    "DBP15KRawNeighbors():  \n",
    "\n",
    "load读取的是labse编码的entity的embedding    "
   ]
  },
  {
   "cell_type": "code",
   "execution_count": 3,
   "metadata": {},
   "outputs": [],
   "source": [
    "with open('/home1/data5/bowen/code/SelfKG/data/DBP15K/zh_en/LaBSE_emb_1.pkl', 'rb') as f:\n",
    "    id_entity = pickle.load(f)"
   ]
  },
  {
   "cell_type": "code",
   "execution_count": 23,
   "metadata": {},
   "outputs": [
    {
     "name": "stdout",
     "output_type": "stream",
     "text": [
      "the length of id_entity is 19388, type is <class 'dict'>\n",
      "768\n"
     ]
    },
    {
     "data": {
      "text/plain": [
       "(1, 768)"
      ]
     },
     "execution_count": 23,
     "metadata": {},
     "output_type": "execute_result"
    }
   ],
   "source": [
    "print(\"the length of id_entity is {}, type is {}\".format(len(id_entity),type(id_entity)))\n",
    "print(len(id_entity[0][0]))\n",
    "x = np.array(id_entity[0])\n",
    "x.shape"
   ]
  },
  {
   "cell_type": "markdown",
   "metadata": {},
   "source": [
    "id_neighbors_loader读取的是src/tgt的triple(ids)。这里判断tail是head的邻居.\n",
    "1. head_str其实是row[head]的embedding  \n",
    "2. id_neighbors_dict保存的是key:head; value:head的所有tail的embedding\n",
    "和 key:tail; value:tail的所有head的embedding。保存了所有实体id对应的邻居embedding，第0个代表的是自己。"
   ]
  },
  {
   "cell_type": "code",
   "execution_count": 4,
   "metadata": {},
   "outputs": [],
   "source": [
    "filepath = '/home1/data5/bowen/code/SelfKG/data/DBP15K/zh_en/triples_1'\n",
    "data = pd.read_csv(filepath, header=None, sep='\\t')\n",
    "data.columns = ['head', 'relation', 'tail']\n",
    "id_neighbors_dict = {}\n",
    "for index, row in data.iterrows():\n",
    "    head_str = id_entity[int(row['head'])][0]\n",
    "    tail_str = id_entity[int(row['tail'])][0]\n",
    "\n",
    "    if not int(row['head']) in id_neighbors_dict.keys():\n",
    "        id_neighbors_dict[int(row['head'])] = [head_str]\n",
    "    if not tail_str in id_neighbors_dict[int(row['head'])]:\n",
    "        id_neighbors_dict[int(row['head'])].append(tail_str)\n",
    "    \n",
    "    if not int(row['tail']) in id_neighbors_dict.keys():\n",
    "        id_neighbors_dict[int(row['tail'])] = [tail_str]\n",
    "    if not head_str in id_neighbors_dict[int(row['tail'])]:\n",
    "        id_neighbors_dict[int(row['tail'])].append(head_str)\n",
    "# len(id_neighbors_dict)"
   ]
  },
  {
   "cell_type": "markdown",
   "metadata": {},
   "source": [
    "get_adj是创建邻接矩阵，对角，第一行，第一列。每个节点能到自己，第0个表示自己，能到自己的所有邻居，所有邻居能到第0个节点。  "
   ]
  },
  {
   "cell_type": "code",
   "execution_count": 5,
   "metadata": {},
   "outputs": [],
   "source": [
    "def get_adj(valid_len):\n",
    "    adj = torch.zeros(NEIGHBOR_SIZE, NEIGHBOR_SIZE).bool()\n",
    "    for i in range(0, valid_len):\n",
    "        adj[i, i] = 1\n",
    "        adj[0, i] = 1\n",
    "        adj[i, 0] = 1\n",
    "    return adj"
   ]
  },
  {
   "cell_type": "markdown",
   "metadata": {},
   "source": [
    "get_center_adj是造出来：\n",
    "1. id_adj_tensor_dict：dict，是当前实体的邻接矩阵。  \n",
    "2. id_neighbors_dict:dict, padding扩展到20个neighbors。v是个二维矩阵.\n",
    "比20大的截断"
   ]
  },
  {
   "cell_type": "code",
   "execution_count": 6,
   "metadata": {},
   "outputs": [],
   "source": [
    "id_adj_tensor_dict = {}\n",
    "for k, v in id_neighbors_dict.items():\n",
    "    if len(v) < NEIGHBOR_SIZE:\n",
    "        id_adj_tensor_dict[k] = get_adj(len(v))\n",
    "        id_neighbors_dict[k] = v + [[0]*LaBSE_DIM] * (NEIGHBOR_SIZE - len(v))\n",
    "    else:\n",
    "        id_adj_tensor_dict[k] = get_adj(NEIGHBOR_SIZE)\n",
    "        id_neighbors_dict[k] = v[:NEIGHBOR_SIZE]"
   ]
  },
  {
   "cell_type": "code",
   "execution_count": null,
   "metadata": {},
   "outputs": [],
   "source": [
    "len(v)"
   ]
  }
 ],
 "metadata": {
  "kernelspec": {
   "display_name": "Python 3.9.14 ('selfkg')",
   "language": "python",
   "name": "python3"
  },
  "language_info": {
   "codemirror_mode": {
    "name": "ipython",
    "version": 3
   },
   "file_extension": ".py",
   "mimetype": "text/x-python",
   "name": "python",
   "nbconvert_exporter": "python",
   "pygments_lexer": "ipython3",
   "version": "3.9.14"
  },
  "orig_nbformat": 4,
  "vscode": {
   "interpreter": {
    "hash": "c10886b160ef380b9a9899d7cd46ed4ff0f65536336b80e7f9abe4df9e948776"
   }
  }
 },
 "nbformat": 4,
 "nbformat_minor": 2
}
