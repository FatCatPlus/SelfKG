{
 "cells": [
  {
   "cell_type": "code",
   "execution_count": 1,
   "metadata": {},
   "outputs": [
    {
     "name": "stderr",
     "output_type": "stream",
     "text": [
      "Matplotlib created a temporary config/cache directory at /home1/data5/bowen/tmp/matplotlib-seg2_f_u because the default path (/home1/data5/bowen/.config/matplotlib) is not a writable directory; it is highly recommended to set the MPLCONFIGDIR environment variable to a writable directory, in particular to speed up the import of Matplotlib and to better support multiprocessing.\n"
     ]
    }
   ],
   "source": [
    "import os\n",
    "import collections\n",
    "import matplotlib.pyplot as plt\n",
    "import numpy as np\n",
    "import sys\n",
    "import pandas as pd\n",
    "sys.path.append('..')\n",
    "from settings import *\n",
    "from loader.DBP15kRawLoader import DBP15kRawLoader, ENDBP15kRawLoader\n",
    "from loader.DBP15KRawNeighbors import DBP15KRawNeighbors\n",
    "from model.layers_LaBSE_neighbor import MyEmbedder, Trainer\n",
    "from script.preprocess.deal_raw_dataset import MyRawdataset\n",
    "\n",
    "LANGUAGE = 'fr_en'"
   ]
  },
  {
   "cell_type": "code",
   "execution_count": 2,
   "metadata": {},
   "outputs": [],
   "source": [
    "def neighbor_dict(language, id_entity, num=1):\n",
    "    id_neighbors_dict = {}\n",
    "    filepath = PROJ_DIR + f'/data/DBP15K/{language}/triples_{num}'\n",
    "    data = pd.read_csv(filepath, header=None, sep='\\t')\n",
    "    data.columns = ['head', 'relation', 'tail']\n",
    "\n",
    "    for index, row in data.iterrows():\n",
    "        head_str = id_entity[int(row['head'])]\n",
    "        tail_str = id_entity[int(row['tail'])]\n",
    "        # print(head_str)\n",
    "        if not id_entity[int(row['head'])] in id_neighbors_dict.keys():\n",
    "            id_neighbors_dict[id_entity[int(row['head'])]] = [head_str]\n",
    "        if not tail_str in id_neighbors_dict[id_entity[int(row['head'])]]:\n",
    "            id_neighbors_dict[id_entity[int(row['head'])]].append(tail_str)\n",
    "        \n",
    "        if not id_entity[int(row['tail'])] in id_neighbors_dict.keys():\n",
    "            id_neighbors_dict[id_entity[int(row['tail'])]] = [tail_str]\n",
    "        if not head_str in id_neighbors_dict[id_entity[int(row['tail'])]]:\n",
    "            id_neighbors_dict[id_entity[int(row['tail'])]].append(head_str)\n",
    "    return id_neighbors_dict\n",
    "\n",
    "\n",
    "link = {}\n",
    "f = 'test.ref'\n",
    "link_data = pd.read_csv(join(join(DATA_DIR, 'DBP15K', LANGUAGE), f), sep='\\t', header=None)\n",
    "link_data.columns = ['entity1', 'entity2']\n",
    "entity1_id = link_data['entity1'].values.tolist()\n",
    "entity2_id = link_data['entity2'].values.tolist()\n",
    "for i, _ in enumerate(entity1_id):\n",
    "    link[entity1_id[i]] = entity2_id[i]\n",
    "    link[entity2_id[i]] = entity1_id[i]"
   ]
  },
  {
   "cell_type": "code",
   "execution_count": 3,
   "metadata": {},
   "outputs": [],
   "source": [
    "id_entity_1 = DBP15kRawLoader(language=LANGUAGE).id_entity\n",
    "id_entity_2 = ENDBP15kRawLoader(language=LANGUAGE).id_entity\n",
    "id_neighbors_dict1 = neighbor_dict(LANGUAGE, id_entity_1, num=1)\n",
    "id_neighbors_dict2 = neighbor_dict(LANGUAGE, id_entity_2, num=2)"
   ]
  },
  {
   "cell_type": "code",
   "execution_count": 4,
   "metadata": {},
   "outputs": [],
   "source": [
    "_num = []\n",
    "for _id2 in entity2_id:\n",
    "    _id1 = link[_id2]\n",
    "    _num.append([len(id_neighbors_dict1[id_entity_1[_id1]])-1, len(id_neighbors_dict2[id_entity_2[_id2]])-1])"
   ]
  },
  {
   "cell_type": "code",
   "execution_count": 5,
   "metadata": {},
   "outputs": [],
   "source": [
    "with open(FAIL_DIR + f'/{LANGUAGE}_num.pkl', 'rb') as f:\n",
    "    at1_num, at10_num = pickle.load(f)"
   ]
  },
  {
   "cell_type": "code",
   "execution_count": 24,
   "metadata": {},
   "outputs": [],
   "source": [
    "exec(f'{LANGUAGE}_all_num = np.array(_num)[:,0]')\n",
    "en_all_num = np.array(_num)[:,1]\n",
    "exec(f'{LANGUAGE}_at1_num = np.array(at1_num)[:,0]')\n",
    "en_at1_num = np.array(at1_num)[:,1]\n",
    "exec(f'{LANGUAGE}_at10_num = np.array(at10_num)[:,0]')\n",
    "en_at10_num = np.array(at10_num)[:,1]"
   ]
  },
  {
   "cell_type": "code",
   "execution_count": 43,
   "metadata": {},
   "outputs": [],
   "source": [
    "en_diff_at1 = np.copy(en_all_num).tolist()\n",
    "for i in range(len(en_at1_num)):\n",
    "    for item in en_diff_at1:\n",
    "        if en_at1_num[i] == item:\n",
    "            en_diff_at1.remove(item)\n",
    "            break\n"
   ]
  },
  {
   "cell_type": "code",
   "execution_count": 44,
   "metadata": {},
   "outputs": [
    {
     "data": {
      "text/plain": [
       "array([1928, 5312, 1584,  515,  229,  131,   76,   49,   44,   43,   17,\n",
       "         18,   15,   14,    4,    3,    4,    3,    4,    4,    3,    2,\n",
       "          2,    2,    2,    2,    1,    2,    3,    3,    3,    6,    1,\n",
       "          1,    1,    0,    0,    2,    1])"
      ]
     },
     "execution_count": 44,
     "metadata": {},
     "output_type": "execute_result"
    }
   ],
   "source": [
    "import pandas as pd\n",
    "at1_df = pd.DataFrame(en_diff_at1)\n",
    "at1_bins = [i for i in range(0,200) if i%5==0 ]\n",
    "at1_ = pd.cut(at1_df.values.flatten(), bins=at1_bins)\n",
    "at1_.value_counts().values"
   ]
  },
  {
   "cell_type": "code",
   "execution_count": 46,
   "metadata": {},
   "outputs": [
    {
     "data": {
      "text/plain": [
       "array([2042, 5507, 1649,  539,  245,  141,   88,   51,   48,   48,   19,\n",
       "         22,   18,   17,    5,    4,    5,    4,    5,    6,    4,    4,\n",
       "          3,    3,    3,    3,    2,    3,    5,    4,    4,    9,    2,\n",
       "          2,    2,    1,    1,    3,    2])"
      ]
     },
     "execution_count": 46,
     "metadata": {},
     "output_type": "execute_result"
    }
   ],
   "source": [
    "all_df = pd.DataFrame(en_all_num)\n",
    "all_bins = [i for i in range(0,200) if i%5==0 ]\n",
    "all_ = pd.cut(all_df.values.flatten(), bins=all_bins)\n",
    "all_.value_counts().values+1"
   ]
  },
  {
   "cell_type": "code",
   "execution_count": 47,
   "metadata": {},
   "outputs": [
    {
     "data": {
      "text/plain": [
       "array([0.94417238, 0.96459052, 0.96058217, 0.9554731 , 0.93469388,\n",
       "       0.92907801, 0.86363636, 0.96078431, 0.91666667, 0.89583333,\n",
       "       0.89473684, 0.81818182, 0.83333333, 0.82352941, 0.8       ,\n",
       "       0.75      , 0.8       , 0.75      , 0.8       , 0.66666667,\n",
       "       0.75      , 0.5       , 0.66666667, 0.66666667, 0.66666667,\n",
       "       0.66666667, 0.5       , 0.66666667, 0.6       , 0.75      ,\n",
       "       0.75      , 0.66666667, 0.5       , 0.5       , 0.5       ,\n",
       "       0.        , 0.        , 0.66666667, 0.5       ])"
      ]
     },
     "execution_count": 47,
     "metadata": {},
     "output_type": "execute_result"
    }
   ],
   "source": [
    "at1_.value_counts().values / (all_.value_counts().values+1)"
   ]
  },
  {
   "cell_type": "code",
   "execution_count": 50,
   "metadata": {},
   "outputs": [
    {
     "data": {
      "text/plain": [
       "[<matplotlib.lines.Line2D at 0x7fbd39aa8eb0>]"
      ]
     },
     "execution_count": 50,
     "metadata": {},
     "output_type": "execute_result"
    },
    {
     "data": {
      "image/png": "[encoded data removed]",
      "text/plain": [
       "<Figure size 640x480 with 1 Axes>"
      ]
     },
     "metadata": {},
     "output_type": "display_data"
    }
   ],
   "source": [
    "plt.figure()\n",
    "x = pd.Series(at1_.value_counts().values / (all_.value_counts().values+1))\n",
    "plt.plot(x)"
   ]
  }
 ],
 "metadata": {
  "kernelspec": {
   "display_name": "Python 3.9.14 ('selfkg')",
   "language": "python",
   "name": "python3"
  },
  "language_info": {
   "codemirror_mode": {
    "name": "ipython",
    "version": 3
   },
   "file_extension": ".py",
   "mimetype": "text/x-python",
   "name": "python",
   "nbconvert_exporter": "python",
   "pygments_lexer": "ipython3",
   "version": "3.9.14"
  },
  "orig_nbformat": 4,
  "vscode": {
   "interpreter": {
    "hash": "c10886b160ef380b9a9899d7cd46ed4ff0f65536336b80e7f9abe4df9e948776"
   }
  }
 },
 "nbformat": 4,
 "nbformat_minor": 2
}
