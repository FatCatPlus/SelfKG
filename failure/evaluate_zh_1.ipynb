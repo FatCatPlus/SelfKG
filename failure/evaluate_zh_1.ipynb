{
 "cells": [
  {
   "cell_type": "code",
   "execution_count": 9,
   "metadata": {},
   "outputs": [],
   "source": [
    "# coding: UTF-8\n",
    "import argparse\n",
    "import logging\n",
    "import os\n",
    "import random\n",
    "import sys\n",
    "from datetime import datetime\n",
    "from posixpath import join\n",
    "\n",
    "import faiss\n",
    "import numpy as np\n",
    "import pandas as pd\n",
    "# using labse\n",
    "# from transformers import *\n",
    "import torch\n",
    "import torch.nn as nn\n",
    "import torch.nn.functional as F\n",
    "import torch.optim as optim\n",
    "import torch.utils.data as Data\n",
    "from torch.nn import *\n",
    "\n",
    "from loader.DBP15KRawNeighbors import DBP15KRawNeighbors\n",
    "from model.layers_LaBSE_neighbor import Trainer, MyEmbedder\n",
    "from script.preprocess.deal_raw_dataset import MyRawdataset\n",
    "from settings import *\n",
    "\n",
    "sys.argv=['']\n",
    "del sys\n",
    "# Labse embedding dim\n",
    "MAX_LEN = 88\n",
    "\n",
    "path = '/home1/data5/bowen/code/SelfKG/checkpoints/LaBSE/zh_en/model_neighbor_True_epoch_124_batch_size_96_neg_queue_len_63.ckpt'\n",
    "def parse_options(parser):\n",
    "    parser.add_argument('--device', type=str, default='cuda:0')\n",
    "    parser.add_argument('--time', type=str, default=datetime.now().strftime(\"%Y%m%d%H%M%S\"))\n",
    "    parser.add_argument('--language', type=str, default='zh_en')\n",
    "    parser.add_argument('--model_language', type=str, default='zh_en')\n",
    "    parser.add_argument('--model', type=str, default='LaBSE')\n",
    "\n",
    "    parser.add_argument('--epoch', type=int, default=300)\n",
    "    parser.add_argument('--batch_size', type=int, default=64)\n",
    "    parser.add_argument('--queue_length', type=int, default=64)\n",
    "\n",
    "    parser.add_argument('--center_norm', type=bool, default=False)\n",
    "    parser.add_argument('--neighbor_norm', type=bool, default=True)\n",
    "    parser.add_argument('--emb_norm', type=bool, default=True)\n",
    "    parser.add_argument('--combine', type=bool, default=True)\n",
    "\n",
    "    parser.add_argument('--gat_num', type=int, default=1)\n",
    "\n",
    "    parser.add_argument('--t', type=float, default=0.08)\n",
    "    parser.add_argument('--momentum', type=float, default=0.9999)\n",
    "    parser.add_argument('--lr', type=float, default=1e-6)\n",
    "    parser.add_argument('--dropout', type=float, default=0.3)\n",
    "\n",
    "    return parser.parse_args()"
   ]
  },
  {
   "cell_type": "code",
   "execution_count": 10,
   "metadata": {},
   "outputs": [
    {
     "name": "stderr",
     "output_type": "stream",
     "text": [
      "21it [00:00, 208.02it/s]"
     ]
    },
    {
     "name": "stdout",
     "output_type": "stream",
     "text": [
      "Evaluate at epoch 124...\n"
     ]
    },
    {
     "name": "stderr",
     "output_type": "stream",
     "text": [
      "303it [00:01, 218.34it/s]\n",
      "306it [00:01, 275.27it/s]\n"
     ]
    },
    {
     "name": "stdout",
     "output_type": "stream",
     "text": [
      "========Validation========\n",
      "#Entity: 225\n",
      "Hit@1: 0.769\n",
      "Hit@10:0.871\n",
      "===========Test===========\n",
      "#Entity: 10500\n",
      "Hit@1: 0.745\n",
      "Hit@10:0.864\n"
     ]
    }
   ],
   "source": [
    "parser = argparse.ArgumentParser()\n",
    "args = parse_options(parser)\n",
    "model = MyEmbedder(args, VOCAB_SIZE)\n",
    "checkpoint = torch.load(path)\n",
    "model.load_state_dict(checkpoint['model'])\n",
    "epoch = checkpoint['epoch']\n",
    "\n",
    "evaluator = Trainer(args, training=False)\n",
    "evaluator.model = model.cuda()\n",
    "_1, _2, _3, _4, fail_ids2_at1, _5 = evaluator.evaluate(124)"
   ]
  },
  {
   "cell_type": "code",
   "execution_count": 11,
   "metadata": {},
   "outputs": [],
   "source": [
    "link = evaluator.link"
   ]
  },
  {
   "cell_type": "code",
   "execution_count": 12,
   "metadata": {},
   "outputs": [],
   "source": [
    "from loader.DBP15kRawLoader import DBP15kRawLoader, ENDBP15kRawLoader\n",
    "\n",
    "id_entity_1 = DBP15kRawLoader(language=\"zh_en\").id_entity\n",
    "id_entity_2 = ENDBP15kRawLoader(language=\"zh_en\").id_entity"
   ]
  },
  {
   "cell_type": "code",
   "execution_count": 13,
   "metadata": {},
   "outputs": [],
   "source": [
    "id_neighbors_dict1 = {}\n",
    "filepath = '/home1/data5/bowen/code/SelfKG/data/DBP15K/zh_en/triples_1'\n",
    "data = pd.read_csv(filepath, header=None, sep='\\t')\n",
    "data.columns = ['head', 'relation', 'tail']\n",
    "\n",
    "for index, row in data.iterrows():\n",
    "    head_str = id_entity_1[int(row['head'])]\n",
    "    tail_str = id_entity_1[int(row['tail'])]\n",
    "    # print(head_str)\n",
    "    if not id_entity_1[int(row['head'])] in id_neighbors_dict1.keys():\n",
    "        id_neighbors_dict1[id_entity_1[int(row['head'])]] = [head_str]\n",
    "    if not tail_str in id_neighbors_dict1[id_entity_1[int(row['head'])]]:\n",
    "        id_neighbors_dict1[id_entity_1[int(row['head'])]].append(tail_str)\n",
    "    \n",
    "    if not id_entity_1[int(row['tail'])] in id_neighbors_dict1.keys():\n",
    "        id_neighbors_dict1[id_entity_1[int(row['tail'])]] = [tail_str]\n",
    "    if not head_str in id_neighbors_dict1[id_entity_1[int(row['tail'])]]:\n",
    "        id_neighbors_dict1[id_entity_1[int(row['tail'])]].append(head_str)"
   ]
  },
  {
   "cell_type": "code",
   "execution_count": 14,
   "metadata": {},
   "outputs": [],
   "source": [
    "id_neighbors_dict2 = {}\n",
    "filepath = '/home1/data5/bowen/code/SelfKG/data/DBP15K/zh_en/triples_2'\n",
    "data = pd.read_csv(filepath, header=None, sep='\\t')\n",
    "data.columns = ['head', 'relation', 'tail']\n",
    "\n",
    "for index, row in data.iterrows():\n",
    "    head_str = id_entity_2[int(row['head'])]\n",
    "    tail_str = id_entity_2[int(row['tail'])]\n",
    "    # print(head_str)\n",
    "    if not id_entity_2[int(row['head'])] in id_neighbors_dict2.keys():\n",
    "        id_neighbors_dict2[id_entity_2[int(row['head'])]] = [head_str]\n",
    "    if not tail_str in id_neighbors_dict2[id_entity_2[int(row['head'])]]:\n",
    "        id_neighbors_dict2[id_entity_2[int(row['head'])]].append(tail_str)\n",
    "    \n",
    "    if not id_entity_2[int(row['tail'])] in id_neighbors_dict2.keys():\n",
    "        id_neighbors_dict2[id_entity_2[int(row['tail'])]] = [tail_str]\n",
    "    if not head_str in id_neighbors_dict2[id_entity_2[int(row['tail'])]]:\n",
    "        id_neighbors_dict2[id_entity_2[int(row['tail'])]].append(head_str)"
   ]
  },
  {
   "cell_type": "code",
   "execution_count": 18,
   "metadata": {},
   "outputs": [],
   "source": [
    "list_at1 = []\n",
    "for _id2 in fail_ids2_at1:\n",
    "    _id1 = link[_id2]\n",
    "    tempdict = {}\n",
    "    tempdict['zh_entity'] = id_entity_1[_id1]\n",
    "    tempdict['zh_entity_neighbors'] = id_neighbors_dict1[id_entity_1[_id1]][1:]\n",
    "    tempdict['zh_entity_num'] = str(len(id_neighbors_dict1[id_entity_1[_id1]])-1)\n",
    "    tempdict['en_entity'] = id_entity_2[_id2]\n",
    "    tempdict['en_entity_neighbors'] = id_neighbors_dict2[id_entity_2[_id2]][1:]\n",
    "    tempdict['en_entity_num'] = str(len(id_neighbors_dict2[id_entity_2[_id2]])-1)\n",
    "    list_at1.append(tempdict)"
   ]
  },
  {
   "cell_type": "code",
   "execution_count": 19,
   "metadata": {},
   "outputs": [],
   "source": [
    "import json\n",
    "with open(FAIL_DIR + '/zh_failed_hit1.json','w', encoding='utf-8') as f:\n",
    "    for my_dict in list_at1:\n",
    "        for item in my_dict.items():\n",
    "            json.dump(item, f, ensure_ascii=False)\n",
    "            f.write('\\n')\n",
    "            if item[0] == 'en_entity_num':\n",
    "                f.write('\\n')"
   ]
  }
 ],
 "metadata": {
  "kernelspec": {
   "display_name": "Python 3.9.14 ('selfkg')",
   "language": "python",
   "name": "python3"
  },
  "language_info": {
   "codemirror_mode": {
    "name": "ipython",
    "version": 3
   },
   "file_extension": ".py",
   "mimetype": "text/x-python",
   "name": "python",
   "nbconvert_exporter": "python",
   "pygments_lexer": "ipython3",
   "version": "3.9.14"
  },
  "orig_nbformat": 4,
  "vscode": {
   "interpreter": {
    "hash": "c10886b160ef380b9a9899d7cd46ed4ff0f65536336b80e7f9abe4df9e948776"
   }
  }
 },
 "nbformat": 4,
 "nbformat_minor": 2
}
