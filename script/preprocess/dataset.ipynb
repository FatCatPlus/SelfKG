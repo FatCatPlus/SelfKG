{
 "cells": [
  {
   "cell_type": "code",
   "execution_count": null,
   "metadata": {},
   "outputs": [],
   "source": [
    "import numpy as np\n",
    "import sys\n",
    "sys.path.append('../..')\n",
    "sys.path.append('..')\n",
    "from loader.DBP15KRawNeighbors import *\n",
    "from deal_raw_dataset import *\n",
    "import torch\n",
    "from torch.utils.data import Dataset, DataLoader\n",
    "from settings import *\n",
    "from loader.DBP15k import DBP15kLoader\n",
    "from script.preprocess.get_token import Token"
   ]
  },
  {
   "cell_type": "code",
   "execution_count": null,
   "metadata": {},
   "outputs": [],
   "source": [
    "loader1 = DBP15KRawNeighbors('zh_en', \"1\")"
   ]
  },
  {
   "cell_type": "markdown",
   "metadata": {},
   "source": [
    "### 这个是labse+neighbor+dbp15k中构建dataset的方法\n",
    "\n",
    "继承torch.utils.data中的dataset类\n",
    "记得包含__getitem__和__len__\n",
    "\n",
    "__init__传入每个id对应的neighbor feature和neighbor邻接矩阵。"
   ]
  },
  {
   "cell_type": "markdown",
   "metadata": {},
   "source": [
    "for k in id_features_dict: 对每个id进行操作"
   ]
  },
  {
   "cell_type": "code",
   "execution_count": null,
   "metadata": {},
   "outputs": [],
   "source": [
    "for k in loader1.id_neighbors_dict:\n",
    "    print(k)"
   ]
  },
  {
   "cell_type": "code",
   "execution_count": null,
   "metadata": {},
   "outputs": [],
   "source": [
    "key1 = list(loader1.id_neighbors_dict.keys())[0]\n",
    "print(np.array(loader1.id_adj_tensor_dict[key1]).shape)\n",
    "print(np.array(loader1.id_adj_tensor_dict[key1].unsqueeze(0)).shape)"
   ]
  },
  {
   "cell_type": "markdown",
   "metadata": {},
   "source": [
    ".unsqueeze(num)是在第num维度添加一个维度"
   ]
  },
  {
   "cell_type": "code",
   "execution_count": null,
   "metadata": {},
   "outputs": [],
   "source": [
    "a = loader1.id_adj_tensor_dict[key1].unsqueeze(0)\n",
    "key2 = list(loader1.id_neighbors_dict.keys())[1]\n",
    "b = loader1.id_adj_tensor_dict[key2].unsqueeze(0)\n",
    "torch.cat((a,b),dim=0).shape"
   ]
  },
  {
   "cell_type": "markdown",
   "metadata": {},
   "source": [
    "torch.cat拼接起来每一个key的邻接矩阵"
   ]
  },
  {
   "cell_type": "markdown",
   "metadata": {},
   "source": [
    "x_train是：k对应的20行embedding  \n",
    "x_train_adj是：k对应的（1,20,20）的邻接矩阵  \n",
    "y_train是：k  \n",
    "三个list  "
   ]
  },
  {
   "cell_type": "code",
   "execution_count": 62,
   "metadata": {},
   "outputs": [
    {
     "name": "stdout",
     "output_type": "stream",
     "text": [
      "torch.Size([1, 20, 768])\n"
     ]
    },
    {
     "data": {
      "text/plain": [
       "torch.Size([1, 20, 788])"
      ]
     },
     "execution_count": 62,
     "metadata": {},
     "output_type": "execute_result"
    }
   ],
   "source": [
    "a = []\n",
    "a.append(loader1.id_neighbors_dict[3118])\n",
    "a = torch.Tensor(a)\n",
    "print(a.shape)\n",
    "b = loader1.id_adj_tensor_dict[3118].unsqueeze(0)\n",
    "torch.cat((a,b),dim=2).shape"
   ]
  },
  {
   "cell_type": "markdown",
   "metadata": {},
   "source": [
    "torch.cat之后的self.x_train的维度是[1,20,788]。20维的邻接矩阵拼在了embedding的后面"
   ]
  },
  {
   "cell_type": "markdown",
   "metadata": {},
   "source": [
    "test:\n",
    "link = 10500个  \n",
    "entity1 -> zh  \n",
    "entity -> en  \n"
   ]
  }
 ],
 "metadata": {
  "kernelspec": {
   "display_name": "Python 3.9.14 ('selfkg')",
   "language": "python",
   "name": "python3"
  },
  "language_info": {
   "codemirror_mode": {
    "name": "ipython",
    "version": 3
   },
   "file_extension": ".py",
   "mimetype": "text/x-python",
   "name": "python",
   "nbconvert_exporter": "python",
   "pygments_lexer": "ipython3",
   "version": "3.9.14"
  },
  "orig_nbformat": 4,
  "vscode": {
   "interpreter": {
    "hash": "c10886b160ef380b9a9899d7cd46ed4ff0f65536336b80e7f9abe4df9e948776"
   }
  }
 },
 "nbformat": 4,
 "nbformat_minor": 2
}
