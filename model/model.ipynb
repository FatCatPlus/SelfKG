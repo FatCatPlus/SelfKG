{
 "cells": [
  {
   "cell_type": "code",
   "execution_count": null,
   "metadata": {},
   "outputs": [],
   "source": [
    "# coding: UTF-8\n",
    "import argparse\n",
    "import logging\n",
    "import os\n",
    "import random\n",
    "import sys\n",
    "from datetime import datetime\n",
    "from posixpath import join\n",
    "\n",
    "import faiss\n",
    "import numpy as np\n",
    "import pandas as pd\n",
    "# using labse\n",
    "# from transformers import *\n",
    "import torch\n",
    "import torch.nn as nn\n",
    "import torch.nn.functional as F\n",
    "import torch.optim as optim\n",
    "import torch.utils.data as Data\n",
    "from torch.nn import *\n",
    "sys.path.append('..')\n",
    "from loader.DBP15KRawNeighbors import DBP15KRawNeighbors\n",
    "from script.preprocess.deal_raw_dataset import MyRawdataset\n",
    "from settings import *\n",
    "from model.layers_LaBSE_neighbor import *\n",
    "\n",
    "sys.argv=['']\n",
    "del sys"
   ]
  },
  {
   "cell_type": "markdown",
   "metadata": {},
   "source": [
    "### model\n",
    "\n",
    "MyEmbedder: 继承nn.module"
   ]
  },
  {
   "cell_type": "markdown",
   "metadata": {},
   "source": [
    "update函数"
   ]
  },
  {
   "cell_type": "code",
   "execution_count": null,
   "metadata": {},
   "outputs": [],
   "source": [
    "parser = argparse.ArgumentParser()\n",
    "args = parse_options(parser)\n",
    "model = MyEmbedder(args, VOCAB_SIZE)\n",
    "modelS = MyEmbedder(args,VOCAB_SIZE)\n",
    "# for key_param, query_param in zip(model.parameters(), modelS.parameters()):\n",
    "#     print(key_param.shape,query_param.shape)\n",
    "    \n",
    "#     key_param.data *= model.args.momentum\n",
    "#     key_param.data += (1 - model.args.momentum) * query_param.data\n",
    "len(list(model.parameters()))"
   ]
  },
  {
   "cell_type": "code",
   "execution_count": 22,
   "metadata": {},
   "outputs": [
    {
     "data": {
      "text/plain": [
       "MyEmbedder(\n",
       "  (attn): BatchMultiHeadGraphAttention(\n",
       "    (leaky_relu): LeakyReLU(negative_slope=0.2)\n",
       "    (softmax): Softmax(dim=-1)\n",
       "    (dropout): Dropout(p=0.3, inplace=False)\n",
       "  )\n",
       "  (attn_mlp): Sequential(\n",
       "    (0): Linear(in_features=1536, out_features=768, bias=True)\n",
       "  )\n",
       "  (criterion): NCESoftmaxLoss(\n",
       "    (criterion): CrossEntropyLoss()\n",
       "  )\n",
       ")"
      ]
     },
     "execution_count": 22,
     "metadata": {},
     "output_type": "execute_result"
    }
   ],
   "source": [
    "model.eval()"
   ]
  },
  {
   "cell_type": "code",
   "execution_count": 24,
   "metadata": {},
   "outputs": [
    {
     "data": {
      "text/plain": [
       "odict_keys(['attn.w', 'attn.a_src', 'attn.a_dst', 'attn.bias', 'attn_mlp.0.weight', 'attn_mlp.0.bias'])"
      ]
     },
     "execution_count": 24,
     "metadata": {},
     "output_type": "execute_result"
    }
   ],
   "source": [
    "model.state_dict().keys()"
   ]
  },
  {
   "cell_type": "markdown",
   "metadata": {},
   "source": [
    "model.parameters()就是模型的六层"
   ]
  }
 ],
 "metadata": {
  "kernelspec": {
   "display_name": "Python 3.9.15 ('selfkg')",
   "language": "python",
   "name": "python3"
  },
  "language_info": {
   "codemirror_mode": {
    "name": "ipython",
    "version": 3
   },
   "file_extension": ".py",
   "mimetype": "text/x-python",
   "name": "python",
   "nbconvert_exporter": "python",
   "pygments_lexer": "ipython3",
   "version": "3.8.15"
  },
  "orig_nbformat": 4,
  "vscode": {
   "interpreter": {
    "hash": "856285f53274beb00088932b01e9760c633ad504efc8970510e1a455811bc052"
   }
  }
 },
 "nbformat": 4,
 "nbformat_minor": 2
}
