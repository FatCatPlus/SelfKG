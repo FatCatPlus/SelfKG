{
 "cells": [
  {
   "cell_type": "code",
   "execution_count": 1,
   "metadata": {},
   "outputs": [],
   "source": [
    "# coding: UTF-8\n",
    "import argparse\n",
    "import logging\n",
    "import os\n",
    "import random\n",
    "import sys\n",
    "from datetime import datetime\n",
    "from posixpath import join\n",
    "os.environ['CUDA_VISIBLE_DEVICES']='1'\n",
    "sys.path.append('..')\n",
    "import faiss\n",
    "import numpy as np\n",
    "import pandas as pd\n",
    "# using labse\n",
    "# from transformers import *\n",
    "import torch\n",
    "import torch.nn as nn\n",
    "import torch.nn.functional as F\n",
    "import torch.optim as optim\n",
    "import torch.utils.data as Data\n",
    "from torch.nn import *\n",
    "\n",
    "from loader.DBP15KRawNeighbors import DBP15KRawNeighbors\n",
    "from script.preprocess.deal_raw_dataset import MyRawdataset\n",
    "from settings import *\n",
    "\n",
    "sys.argv=['']\n",
    "del sys"
   ]
  },
  {
   "cell_type": "markdown",
   "metadata": {},
   "source": [
    "### Trainer\n",
    "\n",
    "1. link_loader:  \n",
    "mode:选择子数据集"
   ]
  },
  {
   "cell_type": "code",
   "execution_count": 2,
   "metadata": {},
   "outputs": [],
   "source": [
    "link = {}\n",
    "mode = 'zh_en'\n",
    "f = 'test.ref'\n",
    "link_data = pd.read_csv(join(join(DATA_DIR, 'DBP15K', mode), f), sep='\\t', header=None)\n",
    "link_data.columns = ['entity1', 'entity2']\n",
    "entity1_id = link_data['entity1'].values.tolist()\n",
    "entity2_id = link_data['entity2'].values.tolist()\n",
    "for i, _ in enumerate(entity1_id):\n",
    "    link[entity1_id[i]] = entity2_id[i]\n",
    "    link[entity2_id[i]] = entity1_id[i]"
   ]
  },
  {
   "cell_type": "markdown",
   "metadata": {},
   "source": [
    "link_data['entity1']: pd column  \n",
    "link_data['entity1'].values: np.array  \n",
    "link{}: 保存的是zh->en和en->zh的双倍link  "
   ]
  },
  {
   "cell_type": "code",
   "execution_count": 3,
   "metadata": {},
   "outputs": [
    {
     "data": {
      "text/plain": [
       "21000"
      ]
     },
     "execution_count": 3,
     "metadata": {},
     "output_type": "execute_result"
    }
   ],
   "source": [
    "len(link)"
   ]
  },
  {
   "cell_type": "markdown",
   "metadata": {},
   "source": [
    "if training:\n",
    "self._model.update(self.model)之后  \n",
    "会执行self._model.eval() "
   ]
  },
  {
   "cell_type": "markdown",
   "metadata": {},
   "source": [
    "2. save_model\n",
    "torch.save(model.state_dict(), path) 保存模型，但是这里传入的是model? torch.save也可以保存model"
   ]
  },
  {
   "cell_type": "markdown",
   "metadata": {},
   "source": [
    "3. evaluate\n",
    "with torch.no_grad():\n",
    "model.eval() 这两句取消了所有梯度计算和反向传播\n",
    "\n",
    "for idx, item in enumerate(dataloader) dataloader返回的是idx和具体的数据\n",
    "\n",
    "idx->[19388, 1]\n",
    "x->[19388, 20, 788]\n",
    "y->[19388, 1]"
   ]
  },
  {
   "cell_type": "code",
   "execution_count": 4,
   "metadata": {},
   "outputs": [],
   "source": [
    "from model.layers_LaBSE_neighbor import *\n",
    "parser = argparse.ArgumentParser()\n",
    "args = parse_options(parser)\n",
    "model = MyEmbedder(args, VOCAB_SIZE)\n",
    "loader1 = DBP15KRawNeighbors(args.language, \"1\")\n",
    "myset1 = MyRawdataset(loader1.id_neighbors_dict, loader1.id_adj_tensor_dict)\n",
    "eval_loader1 = Data.DataLoader(\n",
    "            dataset=myset1,  # torch TensorDataset format\n",
    "            batch_size=args.batch_size,  # all test data\n",
    "            shuffle=True,\n",
    "            drop_last=False,\n",
    "        )"
   ]
  },
  {
   "cell_type": "code",
   "execution_count": 5,
   "metadata": {},
   "outputs": [
    {
     "data": {
      "text/plain": [
       "device(type='cuda', index=0)"
      ]
     },
     "execution_count": 5,
     "metadata": {},
     "output_type": "execute_result"
    }
   ],
   "source": [
    "model.device"
   ]
  },
  {
   "cell_type": "code",
   "execution_count": 6,
   "metadata": {},
   "outputs": [],
   "source": [
    "ids_1, ids_2, vector_1, vector_2 = list(), list(), list(), list()\n",
    "inverse_ids_2 = dict()\n",
    "val = next(iter(eval_loader1))\n",
    "batch_in = val[0][:,:,:768]\n",
    "center = batch_in[:,0]\n",
    "center_neigh = batch_in\n",
    "adj = batch_in[:,:,768:]       "
   ]
  },
  {
   "cell_type": "code",
   "execution_count": 7,
   "metadata": {},
   "outputs": [
    {
     "name": "stdout",
     "output_type": "stream",
     "text": [
      "64 20\n"
     ]
    },
    {
     "data": {
      "text/plain": [
       "torch.Size([64, 1, 20, 768])"
      ]
     },
     "execution_count": 7,
     "metadata": {},
     "output_type": "execute_result"
    }
   ],
   "source": [
    "bs,n = center_neigh.size()[:2]\n",
    "print(bs,n)\n",
    "h = center_neigh.unsqueeze(1)\n",
    "h.shape"
   ]
  },
  {
   "cell_type": "code",
   "execution_count": 8,
   "metadata": {},
   "outputs": [],
   "source": [
    "w = torch.nn.Parameter(torch.Tensor(12,768,768))"
   ]
  },
  {
   "cell_type": "code",
   "execution_count": 9,
   "metadata": {},
   "outputs": [
    {
     "data": {
      "text/plain": [
       "Parameter containing:\n",
       "tensor([[[ 1.7958e-03, -4.4733e-04, -3.0534e-03,  ...,  1.6334e-03,\n",
       "           1.7520e-03, -4.5796e-04],\n",
       "         [ 2.6854e-04,  3.1771e-04, -1.4820e-03,  ...,  2.1904e-03,\n",
       "          -2.3089e-03, -1.0791e-03],\n",
       "         [ 1.2658e-04,  1.6283e-03,  2.1464e-03,  ..., -2.2390e-03,\n",
       "           1.0469e-03, -2.2112e-03],\n",
       "         ...,\n",
       "         [ 1.6108e-03, -2.0411e-03, -1.7799e-03,  ...,  6.3695e-04,\n",
       "           2.2237e-03,  2.3011e-03],\n",
       "         [ 7.2261e-04,  2.0061e-03, -1.0557e-03,  ...,  1.6976e-03,\n",
       "          -1.5535e-03,  1.9487e-03],\n",
       "         [ 3.6737e-04, -7.1399e-04, -2.0122e-03,  ...,  1.3452e-03,\n",
       "          -1.9306e-03, -2.1280e-03]],\n",
       "\n",
       "        [[ 1.1023e-04, -3.4434e-04, -2.3686e-03,  ...,  7.7027e-04,\n",
       "           3.0684e-03,  6.0066e-04],\n",
       "         [ 8.4089e-04,  1.8310e-03,  7.3043e-04,  ..., -3.0405e-03,\n",
       "          -5.2540e-05,  3.8311e-04],\n",
       "         [ 3.1565e-03, -1.0865e-03,  1.3456e-03,  ..., -9.5849e-04,\n",
       "          -8.7422e-04, -2.4232e-03],\n",
       "         ...,\n",
       "         [ 2.2539e-03, -2.7012e-03, -7.0838e-04,  ...,  5.2087e-04,\n",
       "          -1.1759e-03,  7.6571e-04],\n",
       "         [ 2.2784e-03, -1.0486e-04, -3.0372e-03,  ..., -1.6602e-03,\n",
       "          -3.0109e-03, -1.3652e-03],\n",
       "         [ 2.2942e-03, -2.2092e-03, -1.3319e-03,  ..., -2.2973e-03,\n",
       "          -5.5813e-04,  2.6764e-03]],\n",
       "\n",
       "        [[-2.8335e-03,  6.4516e-04,  1.2628e-03,  ..., -2.9736e-03,\n",
       "          -5.6554e-04,  2.9914e-03],\n",
       "         [ 3.2223e-04,  2.1362e-03, -3.6216e-04,  ..., -7.8480e-04,\n",
       "           2.1477e-03,  6.3805e-04],\n",
       "         [ 9.6211e-05,  2.0837e-03,  2.3468e-03,  ...,  1.2855e-03,\n",
       "           9.3980e-04, -5.0914e-04],\n",
       "         ...,\n",
       "         [-1.2868e-05,  1.3218e-03,  4.6515e-04,  ..., -2.1568e-03,\n",
       "           2.9962e-04,  1.5049e-04],\n",
       "         [ 4.1717e-04,  1.5427e-04,  1.8405e-03,  ...,  1.0499e-03,\n",
       "          -1.2172e-03, -2.6712e-03],\n",
       "         [ 1.5317e-03,  1.7965e-03, -1.2416e-03,  ..., -2.7593e-03,\n",
       "          -1.8544e-03,  1.9571e-03]],\n",
       "\n",
       "        ...,\n",
       "\n",
       "        [[-1.8575e-03,  4.4870e-05,  2.4151e-03,  ..., -9.1135e-04,\n",
       "           1.2789e-03,  1.5222e-03],\n",
       "         [ 7.0436e-04, -2.7182e-03,  2.8015e-03,  ...,  2.0208e-03,\n",
       "          -1.8241e-03,  4.8574e-04],\n",
       "         [ 2.7866e-03, -1.9934e-03,  1.1809e-03,  ..., -1.2912e-04,\n",
       "           2.0480e-03,  1.7551e-03],\n",
       "         ...,\n",
       "         [-1.4816e-03, -1.3110e-03,  1.2550e-03,  ..., -2.3689e-03,\n",
       "          -2.5960e-03,  1.5253e-03],\n",
       "         [ 2.7177e-03,  5.0414e-04, -2.1107e-03,  ...,  1.5194e-03,\n",
       "          -1.0712e-04,  3.0385e-03],\n",
       "         [ 1.7081e-03,  2.6811e-03,  1.7546e-03,  ...,  2.7796e-03,\n",
       "          -1.5200e-03,  1.1191e-03]],\n",
       "\n",
       "        [[ 2.1060e-04, -1.6769e-03, -3.0944e-03,  ..., -2.4877e-03,\n",
       "           2.7358e-03,  1.9749e-03],\n",
       "         [-2.4841e-04,  2.2202e-04,  7.5063e-04,  ..., -6.3983e-04,\n",
       "           2.5899e-03,  2.5015e-03],\n",
       "         [-1.3645e-03, -1.8196e-03,  6.2341e-06,  ..., -5.4470e-04,\n",
       "           4.7729e-04, -2.8713e-03],\n",
       "         ...,\n",
       "         [ 1.2381e-03,  2.8480e-03, -4.5765e-05,  ...,  2.4915e-03,\n",
       "          -2.7904e-03,  1.5372e-03],\n",
       "         [-2.1840e-03, -1.9794e-03, -2.7317e-03,  ...,  2.5671e-03,\n",
       "           3.1256e-03, -1.4143e-03],\n",
       "         [-9.4659e-04,  3.4779e-04, -1.8300e-03,  ..., -7.7208e-05,\n",
       "           2.9367e-03, -3.1287e-03]],\n",
       "\n",
       "        [[ 2.9253e-03,  1.9089e-03, -1.5456e-04,  ...,  1.7539e-03,\n",
       "          -8.4126e-04, -2.0879e-03],\n",
       "         [ 1.5420e-03, -1.2334e-03, -1.0885e-03,  ..., -1.3831e-03,\n",
       "           2.0761e-03,  1.7516e-03],\n",
       "         [-2.2014e-04, -1.5447e-03, -1.4307e-03,  ..., -3.0226e-03,\n",
       "          -2.0568e-03, -9.0620e-04],\n",
       "         ...,\n",
       "         [ 2.5619e-03,  1.0569e-03,  2.7269e-03,  ...,  2.5006e-03,\n",
       "          -5.3308e-05,  1.1812e-03],\n",
       "         [ 3.1520e-03,  1.4171e-03,  5.7185e-04,  ...,  8.1179e-04,\n",
       "           1.0618e-03, -2.1216e-03],\n",
       "         [-1.5980e-03, -3.8335e-04,  1.8545e-03,  ...,  9.2175e-04,\n",
       "           5.2002e-04, -7.5548e-04]]], requires_grad=True)"
      ]
     },
     "execution_count": 9,
     "metadata": {},
     "output_type": "execute_result"
    }
   ],
   "source": [
    "nn.init.xavier_uniform_(w)"
   ]
  },
  {
   "cell_type": "code",
   "execution_count": 10,
   "metadata": {},
   "outputs": [],
   "source": [
    "h_prime = torch.matmul(h,w)"
   ]
  },
  {
   "cell_type": "code",
   "execution_count": 11,
   "metadata": {},
   "outputs": [
    {
     "data": {
      "text/plain": [
       "torch.Size([64, 12, 20, 768])"
      ]
     },
     "execution_count": 11,
     "metadata": {},
     "output_type": "execute_result"
    }
   ],
   "source": [
    "h_prime.shape"
   ]
  },
  {
   "cell_type": "code",
   "execution_count": 12,
   "metadata": {},
   "outputs": [
    {
     "data": {
      "text/plain": [
       "torch.Size([64, 12, 20, 1])"
      ]
     },
     "execution_count": 12,
     "metadata": {},
     "output_type": "execute_result"
    }
   ],
   "source": [
    "a_src = Parameter(torch.Tensor(12, 768, 1))\n",
    "attn_src = torch.matmul(torch.tanh(h_prime), a_src)\n",
    "attn_src.shape"
   ]
  },
  {
   "cell_type": "code",
   "execution_count": 13,
   "metadata": {},
   "outputs": [
    {
     "data": {
      "text/plain": [
       "torch.Size([64, 12, 20, 768])"
      ]
     },
     "execution_count": 13,
     "metadata": {},
     "output_type": "execute_result"
    }
   ],
   "source": [
    "attn = attn_src.expand(-1, -1, -1, n)\n",
    "leak = nn.LeakyReLU(negative_slope=0.2)\n",
    "attn = leak(attn)\n",
    "output = torch.matmul(attn, h_prime)\n",
    "output.shape"
   ]
  },
  {
   "cell_type": "code",
   "execution_count": 14,
   "metadata": {},
   "outputs": [
    {
     "data": {
      "text/plain": [
       "torch.Size([64, 20, 768])"
      ]
     },
     "execution_count": 14,
     "metadata": {},
     "output_type": "execute_result"
    }
   ],
   "source": [
    "center_neigh = output.squeeze(1)\n",
    "center_neigh = center_neigh[:, 0]\n",
    "center_neigh.shape"
   ]
  },
  {
   "cell_type": "markdown",
   "metadata": {},
   "source": [
    "这里center_neigh就是输出的entity_vector"
   ]
  },
  {
   "cell_type": "code",
   "execution_count": 15,
   "metadata": {},
   "outputs": [
    {
     "data": {
      "text/plain": [
       "torch.Size([64, 20, 768])"
      ]
     },
     "execution_count": 15,
     "metadata": {},
     "output_type": "execute_result"
    }
   ],
   "source": [
    "center_neigh = F.normalize(center_neigh, p=2, dim=1)\n",
    "###entity_vector\n",
    "center_neigh.shape"
   ]
  },
  {
   "cell_type": "code",
   "execution_count": 16,
   "metadata": {},
   "outputs": [
    {
     "name": "stdout",
     "output_type": "stream",
     "text": [
      "torch.Size([64, 1])\n",
      "torch.Size([64])\n",
      "64\n"
     ]
    }
   ],
   "source": [
    "ids_1, ids_2, vector_1, vector_2 = list(), list(), list(), list()\n",
    "inverse_ids_2 = dict()\n",
    "id_data_1 = val[1]\n",
    "print(id_data_1.shape)\n",
    "ids_1.extend(id_data_1.squeeze().tolist())\n",
    "print(torch.tensor(ids_1).shape)\n",
    "print(len(ids_1))"
   ]
  },
  {
   "cell_type": "code",
   "execution_count": 17,
   "metadata": {},
   "outputs": [],
   "source": [
    "def link_loader(mode, valid=False):\n",
    "    link = {}\n",
    "    if valid == False:\n",
    "        f = 'test.ref'\n",
    "    else:\n",
    "        f = 'valid.ref'\n",
    "    link_data = pd.read_csv(join(join(DATA_DIR, 'DBP15K', mode), f), sep='\\t', header=None)\n",
    "    link_data.columns = ['entity1', 'entity2']\n",
    "    entity1_id = link_data['entity1'].values.tolist()\n",
    "    entity2_id = link_data['entity2'].values.tolist()\n",
    "    for i, _ in enumerate(entity1_id):\n",
    "        link[entity1_id[i]] = entity2_id[i]\n",
    "        link[entity2_id[i]] = entity1_id[i]\n",
    "    return link"
   ]
  },
  {
   "cell_type": "code",
   "execution_count": 18,
   "metadata": {},
   "outputs": [
    {
     "data": {
      "text/plain": [
       "[23461,\n",
       " 22146,\n",
       " 22117,\n",
       " 9110,\n",
       " 6327,\n",
       " 24516,\n",
       " 21476,\n",
       " 21320,\n",
       " 7647,\n",
       " 6112,\n",
       " 5992,\n",
       " 5524,\n",
       " 8695,\n",
       " 10173,\n",
       " 23048,\n",
       " 7937,\n",
       " 7205,\n",
       " 21747,\n",
       " 22626,\n",
       " 23375,\n",
       " 7323,\n",
       " 8107,\n",
       " 24077,\n",
       " 24825,\n",
       " 9434,\n",
       " 7726,\n",
       " 22110,\n",
       " 10223,\n",
       " 5226]"
      ]
     },
     "execution_count": 18,
     "metadata": {},
     "output_type": "execute_result"
    }
   ],
   "source": [
    "link = link_loader(args.language)\n",
    "\n",
    "source = [_id for _id in ids_1 if _id in link]\n",
    "source"
   ]
  },
  {
   "cell_type": "code",
   "execution_count": 19,
   "metadata": {},
   "outputs": [],
   "source": [
    "for idx, _id in enumerate(ids_1):\n",
    "    inverse_ids_2[_id] = idx"
   ]
  },
  {
   "cell_type": "code",
   "execution_count": 46,
   "metadata": {},
   "outputs": [
    {
     "name": "stdout",
     "output_type": "stream",
     "text": [
      "[99999 99999 99999 99999 99999 99999 99999 99999 99999 99999 99999 99999\n",
      " 99999 99999 99999 99999 99999 99999 99999 99999 99999 99999 99999 99999\n",
      " 99999 99999 99999 99999 99999]\n",
      "(29,)\n"
     ]
    }
   ],
   "source": [
    "target = np.array([inverse_ids_2[link[_id]] if link[_id] in inverse_ids_2 else 99999 for _id in source])\n",
    "print(target)\n",
    "print(target.shape)"
   ]
  },
  {
   "cell_type": "code",
   "execution_count": 66,
   "metadata": {},
   "outputs": [
    {
     "name": "stdout",
     "output_type": "stream",
     "text": [
      "(9,)\n",
      "8\n",
      "[[ True  True  True False  True False  True  True  True]\n",
      " [False False False False False False False False False]\n",
      " [False False False False False False False False False]\n",
      " [False False False False False  True False False False]\n",
      " [False False False False False False False False False]\n",
      " [False False False False False False False False False]\n",
      " [False False False False False False False False False]\n",
      " [False False False False False False False False False]\n",
      " [False False False False False False False False False]]\n",
      "[[False False False  True False  True False False False]\n",
      " [ True  True  True  True  True  True  True  True  True]\n",
      " [ True  True  True  True  True  True  True  True  True]\n",
      " [ True  True  True  True  True False  True  True  True]\n",
      " [ True  True  True  True  True  True  True  True  True]\n",
      " [ True  True  True  True  True  True  True  True  True]\n",
      " [ True  True  True  True  True  True  True  True  True]\n",
      " [ True  True  True  True  True  True  True  True  True]\n",
      " [ True  True  True  True  True  True  True  True  True]]\n",
      "(9, 9)\n"
     ]
    }
   ],
   "source": [
    "test = np.array([10,20,30,40,50,60,999,999,999])\n",
    "print(test.shape)\n",
    "I = np.array([10,10,10,1000,10,40,10,10,10])\n",
    "hit = (I == test[:,np.newaxis]).astype(np.int32).sum()\n",
    "print(hit)\n",
    "map1 = (I == test[:,np.newaxis])\n",
    "print(map1)\n",
    "print(map1.shape)"
   ]
  },
  {
   "cell_type": "code",
   "execution_count": 21,
   "metadata": {},
   "outputs": [
    {
     "data": {
      "text/plain": [
       "{528: 0,\n",
       " 23461: 1,\n",
       " 22146: 2,\n",
       " 22117: 3,\n",
       " 9110: 4,\n",
       " 28535: 5,\n",
       " 6327: 6,\n",
       " 24516: 7,\n",
       " 529: 8,\n",
       " 21476: 9,\n",
       " 21320: 10,\n",
       " 7647: 11,\n",
       " 27224: 12,\n",
       " 6112: 13,\n",
       " 26865: 14,\n",
       " 5992: 15,\n",
       " 5524: 16,\n",
       " 4433: 17,\n",
       " 8695: 18,\n",
       " 10173: 19,\n",
       " 2357: 20,\n",
       " 2756: 21,\n",
       " 1298: 22,\n",
       " 23048: 23,\n",
       " 7937: 24,\n",
       " 27697: 25,\n",
       " 1161: 26,\n",
       " 7205: 27,\n",
       " 27293: 28,\n",
       " 25755: 29,\n",
       " 21747: 30,\n",
       " 4018: 31,\n",
       " 2312: 32,\n",
       " 1740: 33,\n",
       " 22626: 34,\n",
       " 901: 35,\n",
       " 23375: 36,\n",
       " 26200: 37,\n",
       " 1691: 38,\n",
       " 29239: 39,\n",
       " 4157: 40,\n",
       " 3094: 41,\n",
       " 7323: 42,\n",
       " 1726: 43,\n",
       " 8107: 44,\n",
       " 24077: 45,\n",
       " 28141: 46,\n",
       " 24825: 47,\n",
       " 2976: 48,\n",
       " 26250: 49,\n",
       " 1320: 50,\n",
       " 738: 51,\n",
       " 29218: 52,\n",
       " 3745: 53,\n",
       " 28123: 54,\n",
       " 9434: 55,\n",
       " 7726: 56,\n",
       " 22110: 57,\n",
       " 29853: 58,\n",
       " 4216: 59,\n",
       " 2563: 60,\n",
       " 10223: 61,\n",
       " 5226: 62,\n",
       " 28585: 63}"
      ]
     },
     "execution_count": 21,
     "metadata": {},
     "output_type": "execute_result"
    }
   ],
   "source": [
    "inverse_ids_2"
   ]
  },
  {
   "cell_type": "code",
   "execution_count": 22,
   "metadata": {},
   "outputs": [
    {
     "name": "stdout",
     "output_type": "stream",
     "text": [
      "True\n"
     ]
    }
   ],
   "source": [
    "src_idx = [idx for idx in range(len(ids_1)) if ids_1[idx] in link]\n",
    "print(len(src_idx)==len(source))"
   ]
  },
  {
   "cell_type": "code",
   "execution_count": 23,
   "metadata": {},
   "outputs": [
    {
     "data": {
      "text/plain": [
       "(29, 768)"
      ]
     },
     "execution_count": 23,
     "metadata": {},
     "output_type": "execute_result"
    }
   ],
   "source": [
    "# v1是一个batch\n",
    "v1 = np.concatenate(tuple(center_neigh.squeeze().detach().cpu().numpy()), axis=0)[src_idx,:]\n",
    "v1.shape"
   ]
  },
  {
   "cell_type": "code",
   "execution_count": 24,
   "metadata": {},
   "outputs": [],
   "source": [
    "index = faiss.IndexFlatL2(v1.shape[1])\n",
    "#是768维上找相似"
   ]
  },
  {
   "cell_type": "code",
   "execution_count": 25,
   "metadata": {},
   "outputs": [
    {
     "data": {
      "text/plain": [
       "29"
      ]
     },
     "execution_count": 25,
     "metadata": {},
     "output_type": "execute_result"
    }
   ],
   "source": [
    "index.add(np.ascontiguousarray(v1))\n",
    "index.ntotal\n",
    "#一个batch64个数据，1280个triple"
   ]
  },
  {
   "cell_type": "code",
   "execution_count": 50,
   "metadata": {},
   "outputs": [
    {
     "name": "stdout",
     "output_type": "stream",
     "text": [
      "(29,)\n",
      "<class 'numpy.ndarray'>\n"
     ]
    }
   ],
   "source": [
    "D, I = index.search(np.ascontiguousarray(v1), 10)\n",
    "hit1 = (I[:, 0] == target).astype(np.int32).sum() / len(source)\n",
    "hit1\n",
    "print(I[:,0].shape)\n",
    "print(type(I))"
   ]
  }
 ],
 "metadata": {
  "kernelspec": {
   "display_name": "Python 3.9.14 ('selfkg')",
   "language": "python",
   "name": "python3"
  },
  "language_info": {
   "codemirror_mode": {
    "name": "ipython",
    "version": 3
   },
   "file_extension": ".py",
   "mimetype": "text/x-python",
   "name": "python",
   "nbconvert_exporter": "python",
   "pygments_lexer": "ipython3",
   "version": "3.9.14"
  },
  "orig_nbformat": 4,
  "vscode": {
   "interpreter": {
    "hash": "c10886b160ef380b9a9899d7cd46ed4ff0f65536336b80e7f9abe4df9e948776"
   }
  }
 },
 "nbformat": 4,
 "nbformat_minor": 2
}
