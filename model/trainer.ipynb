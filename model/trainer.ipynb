{
 "cells": [
  {
   "cell_type": "code",
   "execution_count": 7,
   "metadata": {},
   "outputs": [],
   "source": [
    "# coding: UTF-8\n",
    "import argparse\n",
    "import logging\n",
    "import os\n",
    "import random\n",
    "import sys\n",
    "from datetime import datetime\n",
    "from posixpath import join\n",
    "sys.path.append('..')\n",
    "import faiss\n",
    "import numpy as np\n",
    "import pandas as pd\n",
    "# using labse\n",
    "# from transformers import *\n",
    "import torch\n",
    "import torch.nn as nn\n",
    "import torch.nn.functional as F\n",
    "import torch.optim as optim\n",
    "import torch.utils.data as Data\n",
    "from torch.nn import *\n",
    "\n",
    "from loader.DBP15KRawNeighbors import DBP15KRawNeighbors\n",
    "from script.preprocess.deal_raw_dataset import MyRawdataset\n",
    "from settings import *\n",
    "\n",
    "sys.argv=['']\n",
    "del sys"
   ]
  },
  {
   "cell_type": "markdown",
   "metadata": {},
   "source": [
    "### Trainer\n",
    "\n",
    "1. link_loader:  \n",
    "mode:选择子数据集"
   ]
  },
  {
   "cell_type": "code",
   "execution_count": null,
   "metadata": {},
   "outputs": [],
   "source": [
    "link = {}\n",
    "mode = 'zh_en'\n",
    "f = 'test.ref'\n",
    "link_data = pd.read_csv(join(join(DATA_DIR, 'DBP15K', mode), f), sep='\\t', header=None)\n",
    "link_data.columns = ['entity1', 'entity2']\n",
    "entity1_id = link_data['entity1'].values.tolist()\n",
    "entity2_id = link_data['entity2'].values.tolist()\n",
    "for i, _ in enumerate(entity1_id):\n",
    "    link[entity1_id[i]] = entity2_id[i]\n",
    "    link[entity2_id[i]] = entity1_id[i]"
   ]
  },
  {
   "cell_type": "markdown",
   "metadata": {},
   "source": [
    "link_data['entity1']: pd column  \n",
    "link_data['entity1'].values: np.array  \n",
    "link{}: 保存的是zh->en和en->zh的双倍link  "
   ]
  },
  {
   "cell_type": "code",
   "execution_count": 8,
   "metadata": {},
   "outputs": [
    {
     "data": {
      "text/plain": [
       "21000"
      ]
     },
     "execution_count": 8,
     "metadata": {},
     "output_type": "execute_result"
    }
   ],
   "source": [
    "len(link)"
   ]
  },
  {
   "cell_type": "markdown",
   "metadata": {},
   "source": [
    "if training:\n",
    "self._model.update(self.model)之后  \n",
    "会执行self._model.eval() "
   ]
  },
  {
   "cell_type": "markdown",
   "metadata": {},
   "source": [
    "2. save_model\n",
    "torch.save(model.state_dict(), path) 保存模型，但是这里传入的是model? torch.save也可以保存model"
   ]
  },
  {
   "cell_type": "markdown",
   "metadata": {},
   "source": [
    "3. evaluate\n",
    "with torch.no_grad():\n",
    "model.eval() 这两句取消了所有梯度计算和反向传播\n",
    "\n",
    "for idx, item in enumerate(dataloader) dataloader返回的是idx和具体的数据\n",
    "\n",
    "idx->[19388, 1]\n",
    "x->[19388, 20, 788]\n",
    "y->[19388, 1]"
   ]
  },
  {
   "cell_type": "code",
   "execution_count": 10,
   "metadata": {},
   "outputs": [],
   "source": [
    "from model.layers_LaBSE_neighbor import *\n",
    "parser = argparse.ArgumentParser()\n",
    "args = parse_options(parser)\n",
    "model = MyEmbedder(args, VOCAB_SIZE)\n",
    "loader1 = DBP15KRawNeighbors(args.language, \"1\")\n",
    "myset1 = MyRawdataset(loader1.id_neighbors_dict, loader1.id_adj_tensor_dict)\n",
    "eval_loader1 = Data.DataLoader(\n",
    "            dataset=myset1,  # torch TensorDataset format\n",
    "            batch_size=args.batch_size,  # all test data\n",
    "            shuffle=True,\n",
    "            drop_last=False,\n",
    "        )"
   ]
  },
  {
   "cell_type": "code",
   "execution_count": 11,
   "metadata": {},
   "outputs": [
    {
     "name": "stderr",
     "output_type": "stream",
     "text": [
      "0it [00:24, ?it/s]\n"
     ]
    },
    {
     "ename": "RuntimeError",
     "evalue": "Expected all tensors to be on the same device, but found at least two devices, cuda:0 and cpu! (when checking arugment for argument mat2 in method wrapper_bmm)",
     "output_type": "error",
     "traceback": [
      "\u001b[1;31m---------------------------------------------------------------------------\u001b[0m",
      "\u001b[1;31mRuntimeError\u001b[0m                              Traceback (most recent call last)",
      "Cell \u001b[1;32mIn [11], line 6\u001b[0m\n\u001b[0;32m      4\u001b[0m model\u001b[39m.\u001b[39meval()\n\u001b[0;32m      5\u001b[0m \u001b[39mfor\u001b[39;00m sample_id_1, (token_data_1, id_data_1) \u001b[39min\u001b[39;00m tqdm(\u001b[39menumerate\u001b[39m(eval_loader1)):\n\u001b[1;32m----> 6\u001b[0m     entity_vector_1 \u001b[39m=\u001b[39m model(token_data_1)\u001b[39m.\u001b[39msqueeze()\u001b[39m.\u001b[39mdetach()\u001b[39m.\u001b[39mcpu()\u001b[39m.\u001b[39mnumpy()\n\u001b[0;32m      7\u001b[0m     ids_1\u001b[39m.\u001b[39mextend(id_data_1\u001b[39m.\u001b[39msqueeze()\u001b[39m.\u001b[39mtolist())\n\u001b[0;32m      8\u001b[0m     vector_1\u001b[39m.\u001b[39mappend(entity_vector_1)\n",
      "File \u001b[1;32md:\\anaconda3\\envs\\selfkg\\lib\\site-packages\\torch\\nn\\modules\\module.py:1051\u001b[0m, in \u001b[0;36mModule._call_impl\u001b[1;34m(self, *input, **kwargs)\u001b[0m\n\u001b[0;32m   1047\u001b[0m \u001b[39m# If we don't have any hooks, we want to skip the rest of the logic in\u001b[39;00m\n\u001b[0;32m   1048\u001b[0m \u001b[39m# this function, and just call forward.\u001b[39;00m\n\u001b[0;32m   1049\u001b[0m \u001b[39mif\u001b[39;00m \u001b[39mnot\u001b[39;00m (\u001b[39mself\u001b[39m\u001b[39m.\u001b[39m_backward_hooks \u001b[39mor\u001b[39;00m \u001b[39mself\u001b[39m\u001b[39m.\u001b[39m_forward_hooks \u001b[39mor\u001b[39;00m \u001b[39mself\u001b[39m\u001b[39m.\u001b[39m_forward_pre_hooks \u001b[39mor\u001b[39;00m _global_backward_hooks\n\u001b[0;32m   1050\u001b[0m         \u001b[39mor\u001b[39;00m _global_forward_hooks \u001b[39mor\u001b[39;00m _global_forward_pre_hooks):\n\u001b[1;32m-> 1051\u001b[0m     \u001b[39mreturn\u001b[39;00m forward_call(\u001b[39m*\u001b[39;49m\u001b[39minput\u001b[39;49m, \u001b[39m*\u001b[39;49m\u001b[39m*\u001b[39;49mkwargs)\n\u001b[0;32m   1052\u001b[0m \u001b[39m# Do not call functions when jit is used\u001b[39;00m\n\u001b[0;32m   1053\u001b[0m full_backward_hooks, non_full_backward_hooks \u001b[39m=\u001b[39m [], []\n",
      "File \u001b[1;32me:\\ForkWork\\SelfKG\\model\\..\\model\\layers_LaBSE_neighbor.py:120\u001b[0m, in \u001b[0;36mMyEmbedder.forward\u001b[1;34m(self, batch)\u001b[0m\n\u001b[0;32m    117\u001b[0m center_neigh \u001b[39m=\u001b[39m batch_in\u001b[39m.\u001b[39mto(\u001b[39mself\u001b[39m\u001b[39m.\u001b[39mdevice)\n\u001b[0;32m    119\u001b[0m \u001b[39mfor\u001b[39;00m i \u001b[39min\u001b[39;00m \u001b[39mrange\u001b[39m(\u001b[39m0\u001b[39m, \u001b[39mself\u001b[39m\u001b[39m.\u001b[39margs\u001b[39m.\u001b[39mgat_num):\n\u001b[1;32m--> 120\u001b[0m     center_neigh \u001b[39m=\u001b[39m \u001b[39mself\u001b[39;49m\u001b[39m.\u001b[39;49mattn(center_neigh, adj\u001b[39m.\u001b[39;49mbool())\u001b[39m.\u001b[39msqueeze(\u001b[39m1\u001b[39m)\n\u001b[0;32m    122\u001b[0m center_neigh \u001b[39m=\u001b[39m center_neigh[:, \u001b[39m0\u001b[39m]\n\u001b[0;32m    124\u001b[0m \u001b[39mif\u001b[39;00m \u001b[39mself\u001b[39m\u001b[39m.\u001b[39margs\u001b[39m.\u001b[39mcenter_norm:\n",
      "File \u001b[1;32md:\\anaconda3\\envs\\selfkg\\lib\\site-packages\\torch\\nn\\modules\\module.py:1051\u001b[0m, in \u001b[0;36mModule._call_impl\u001b[1;34m(self, *input, **kwargs)\u001b[0m\n\u001b[0;32m   1047\u001b[0m \u001b[39m# If we don't have any hooks, we want to skip the rest of the logic in\u001b[39;00m\n\u001b[0;32m   1048\u001b[0m \u001b[39m# this function, and just call forward.\u001b[39;00m\n\u001b[0;32m   1049\u001b[0m \u001b[39mif\u001b[39;00m \u001b[39mnot\u001b[39;00m (\u001b[39mself\u001b[39m\u001b[39m.\u001b[39m_backward_hooks \u001b[39mor\u001b[39;00m \u001b[39mself\u001b[39m\u001b[39m.\u001b[39m_forward_hooks \u001b[39mor\u001b[39;00m \u001b[39mself\u001b[39m\u001b[39m.\u001b[39m_forward_pre_hooks \u001b[39mor\u001b[39;00m _global_backward_hooks\n\u001b[0;32m   1050\u001b[0m         \u001b[39mor\u001b[39;00m _global_forward_hooks \u001b[39mor\u001b[39;00m _global_forward_pre_hooks):\n\u001b[1;32m-> 1051\u001b[0m     \u001b[39mreturn\u001b[39;00m forward_call(\u001b[39m*\u001b[39;49m\u001b[39minput\u001b[39;49m, \u001b[39m*\u001b[39;49m\u001b[39m*\u001b[39;49mkwargs)\n\u001b[0;32m   1052\u001b[0m \u001b[39m# Do not call functions when jit is used\u001b[39;00m\n\u001b[0;32m   1053\u001b[0m full_backward_hooks, non_full_backward_hooks \u001b[39m=\u001b[39m [], []\n",
      "File \u001b[1;32me:\\ForkWork\\SelfKG\\model\\..\\model\\layers_LaBSE_neighbor.py:163\u001b[0m, in \u001b[0;36mBatchMultiHeadGraphAttention.forward\u001b[1;34m(self, h, adj)\u001b[0m\n\u001b[0;32m    161\u001b[0m \u001b[39mdef\u001b[39;00m \u001b[39mforward\u001b[39m(\u001b[39mself\u001b[39m, h, adj):\n\u001b[0;32m    162\u001b[0m     bs, n \u001b[39m=\u001b[39m h\u001b[39m.\u001b[39msize()[:\u001b[39m2\u001b[39m]  \u001b[39m# h is of size bs x n x f_in\u001b[39;00m\n\u001b[1;32m--> 163\u001b[0m     h_prime \u001b[39m=\u001b[39m torch\u001b[39m.\u001b[39;49mmatmul(h\u001b[39m.\u001b[39;49munsqueeze(\u001b[39m1\u001b[39;49m), \u001b[39mself\u001b[39;49m\u001b[39m.\u001b[39;49mw)  \u001b[39m# bs x n_head x n x f_out\u001b[39;00m\n\u001b[0;32m    164\u001b[0m     attn_src \u001b[39m=\u001b[39m torch\u001b[39m.\u001b[39mmatmul(torch\u001b[39m.\u001b[39mtanh(h_prime), \u001b[39mself\u001b[39m\u001b[39m.\u001b[39ma_src)  \u001b[39m# bs x n_head x n x 1\u001b[39;00m\n\u001b[0;32m    165\u001b[0m     attn_dst \u001b[39m=\u001b[39m torch\u001b[39m.\u001b[39mmatmul(torch\u001b[39m.\u001b[39mtanh(h_prime), \u001b[39mself\u001b[39m\u001b[39m.\u001b[39ma_dst)  \u001b[39m# bs x n_head x n x 1\u001b[39;00m\n",
      "\u001b[1;31mRuntimeError\u001b[0m: Expected all tensors to be on the same device, but found at least two devices, cuda:0 and cpu! (when checking arugment for argument mat2 in method wrapper_bmm)"
     ]
    }
   ],
   "source": [
    "ids_1, ids_2, vector_1, vector_2 = list(), list(), list(), list()\n",
    "inverse_ids_2 = dict()\n",
    "with torch.no_grad():\n",
    "    model.eval()\n",
    "    for sample_id_1, (token_data_1, id_data_1) in tqdm(enumerate(eval_loader1)):\n",
    "        entity_vector_1 = model(token_data_1).squeeze().detach().cpu().numpy()\n",
    "        ids_1.extend(id_data_1.squeeze().tolist())\n",
    "        vector_1.append(entity_vector_1)\n",
    "\n",
    "    for sample_id_2, (token_data_2, id_data_2) in tqdm(enumerate(eval_loader2)):\n",
    "        entity_vector_2 = model(token_data_2).squeeze().detach().cpu().numpy()\n",
    "        ids_2.extend(id_data_2.squeeze().tolist())\n",
    "        vector_2.append(entity_vector_2)"
   ]
  }
 ],
 "metadata": {
  "kernelspec": {
   "display_name": "Python 3.9.15 ('selfkg')",
   "language": "python",
   "name": "python3"
  },
  "language_info": {
   "codemirror_mode": {
    "name": "ipython",
    "version": 3
   },
   "file_extension": ".py",
   "mimetype": "text/x-python",
   "name": "python",
   "nbconvert_exporter": "python",
   "pygments_lexer": "ipython3",
   "version": "3.8.15"
  },
  "orig_nbformat": 4,
  "vscode": {
   "interpreter": {
    "hash": "856285f53274beb00088932b01e9760c633ad504efc8970510e1a455811bc052"
   }
  }
 },
 "nbformat": 4,
 "nbformat_minor": 2
}
