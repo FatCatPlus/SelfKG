{
 "cells": [
  {
   "cell_type": "code",
   "execution_count": 11,
   "metadata": {},
   "outputs": [],
   "source": [
    "# coding: UTF-8\n",
    "import argparse\n",
    "import logging\n",
    "import os\n",
    "import random\n",
    "import sys\n",
    "from datetime import datetime\n",
    "from posixpath import join\n",
    "\n",
    "import faiss\n",
    "import numpy as np\n",
    "import pandas as pd\n",
    "# using labse\n",
    "# from transformers import *\n",
    "import torch\n",
    "import torch.nn as nn\n",
    "import torch.nn.functional as F\n",
    "import torch.optim as optim\n",
    "import torch.utils.data as Data\n",
    "from torch.nn import *\n",
    "\n",
    "from loader.DBP15KRawNeighbors import DBP15KRawNeighbors\n",
    "from model.layers_LaBSE_neighbor import Trainer, MyEmbedder\n",
    "from script.preprocess.deal_raw_dataset import MyRawdataset\n",
    "from settings import *\n",
    "import matplotlib.pyplot as plt\n",
    "sys.argv=['']\n",
    "del sys\n",
    "# Labse embedding dim\n",
    "MAX_LEN = 88\n",
    "\n",
    "path = '/home1/data5/bowen/code/SelfKG/checkpoints/LaBSE/ja_en/model_neighbor_True_epoch_149_batch_size_96_neg_queue_len_63.ckpt'\n",
    "def parse_options(parser):\n",
    "    parser.add_argument('--device', type=str, default='cuda:0')\n",
    "    parser.add_argument('--time', type=str, default=datetime.now().strftime(\"%Y%m%d%H%M%S\"))\n",
    "    parser.add_argument('--language', type=str, default='fr_en')\n",
    "    parser.add_argument('--model_language', type=str, default='fr_en')\n",
    "    parser.add_argument('--model', type=str, default='LaBSE')\n",
    "\n",
    "    parser.add_argument('--epoch', type=int, default=300)\n",
    "    parser.add_argument('--batch_size', type=int, default=64)\n",
    "    parser.add_argument('--queue_length', type=int, default=64)\n",
    "\n",
    "    parser.add_argument('--center_norm', type=bool, default=False)\n",
    "    parser.add_argument('--neighbor_norm', type=bool, default=True)\n",
    "    parser.add_argument('--emb_norm', type=bool, default=True)\n",
    "    parser.add_argument('--combine', type=bool, default=True)\n",
    "\n",
    "    parser.add_argument('--gat_num', type=int, default=1)\n",
    "\n",
    "    parser.add_argument('--t', type=float, default=0.08)\n",
    "    parser.add_argument('--momentum', type=float, default=0.9999)\n",
    "    parser.add_argument('--lr', type=float, default=1e-6)\n",
    "    parser.add_argument('--dropout', type=float, default=0.3)\n",
    "\n",
    "    return parser.parse_args()"
   ]
  },
  {
   "cell_type": "code",
   "execution_count": 2,
   "metadata": {},
   "outputs": [
    {
     "name": "stderr",
     "output_type": "stream",
     "text": [
      "17it [00:00, 162.98it/s]"
     ]
    },
    {
     "name": "stdout",
     "output_type": "stream",
     "text": [
      "Evaluate at epoch 149...\n"
     ]
    },
    {
     "name": "stderr",
     "output_type": "stream",
     "text": [
      "308it [00:01, 182.58it/s]\n",
      "313it [00:01, 193.34it/s]\n"
     ]
    },
    {
     "name": "stdout",
     "output_type": "stream",
     "text": [
      "========Validation========\n",
      "#Entity: 225\n",
      "Hit@1: 0.916\n",
      "Hit@10:0.982\n",
      "===========Test===========\n",
      "#Entity: 10500\n",
      "Hit@1: 0.947\n",
      "Hit@10:0.99\n"
     ]
    }
   ],
   "source": [
    "parser = argparse.ArgumentParser()\n",
    "args = parse_options(parser)\n",
    "model = MyEmbedder(args, VOCAB_SIZE)\n",
    "checkpoint = torch.load(path)\n",
    "model.load_state_dict(checkpoint['model'])\n",
    "epoch = checkpoint['epoch']\n",
    "\n",
    "evaluator = Trainer(args, training=False)\n",
    "evaluator.model = model.cuda()\n",
    "_1, _2, _3, _4, _5, fail_ids2_at10 = evaluator.evaluate(149)"
   ]
  },
  {
   "cell_type": "code",
   "execution_count": 3,
   "metadata": {},
   "outputs": [],
   "source": [
    "link = evaluator.link"
   ]
  },
  {
   "cell_type": "code",
   "execution_count": 4,
   "metadata": {},
   "outputs": [],
   "source": [
    "from loader.DBP15kRawLoader import DBP15kRawLoader, ENDBP15kRawLoader\n",
    "\n",
    "id_entity_1 = DBP15kRawLoader(language=\"fr_en\").id_entity\n",
    "id_entity_2 = ENDBP15kRawLoader(language=\"fr_en\").id_entity"
   ]
  },
  {
   "cell_type": "code",
   "execution_count": 5,
   "metadata": {},
   "outputs": [],
   "source": [
    "id_neighbors_dict1 = {}\n",
    "filepath = '/home1/data5/bowen/code/SelfKG/data/DBP15K/fr_en/triples_1'\n",
    "data = pd.read_csv(filepath, header=None, sep='\\t')\n",
    "data.columns = ['head', 'relation', 'tail']\n",
    "\n",
    "for index, row in data.iterrows():\n",
    "    head_str = id_entity_1[int(row['head'])]\n",
    "    tail_str = id_entity_1[int(row['tail'])]\n",
    "    # print(head_str)\n",
    "    if not id_entity_1[int(row['head'])] in id_neighbors_dict1.keys():\n",
    "        id_neighbors_dict1[id_entity_1[int(row['head'])]] = [head_str]\n",
    "    if not tail_str in id_neighbors_dict1[id_entity_1[int(row['head'])]]:\n",
    "        id_neighbors_dict1[id_entity_1[int(row['head'])]].append(tail_str)\n",
    "    \n",
    "    if not id_entity_1[int(row['tail'])] in id_neighbors_dict1.keys():\n",
    "        id_neighbors_dict1[id_entity_1[int(row['tail'])]] = [tail_str]\n",
    "    if not head_str in id_neighbors_dict1[id_entity_1[int(row['tail'])]]:\n",
    "        id_neighbors_dict1[id_entity_1[int(row['tail'])]].append(head_str)"
   ]
  },
  {
   "cell_type": "code",
   "execution_count": 6,
   "metadata": {},
   "outputs": [],
   "source": [
    "id_neighbors_dict2 = {}\n",
    "filepath = '/home1/data5/bowen/code/SelfKG/data/DBP15K/fr_en/triples_2'\n",
    "data = pd.read_csv(filepath, header=None, sep='\\t')\n",
    "data.columns = ['head', 'relation', 'tail']\n",
    "\n",
    "for index, row in data.iterrows():\n",
    "    head_str = id_entity_2[int(row['head'])]\n",
    "    tail_str = id_entity_2[int(row['tail'])]\n",
    "    # print(head_str)\n",
    "    if not id_entity_2[int(row['head'])] in id_neighbors_dict2.keys():\n",
    "        id_neighbors_dict2[id_entity_2[int(row['head'])]] = [head_str]\n",
    "    if not tail_str in id_neighbors_dict2[id_entity_2[int(row['head'])]]:\n",
    "        id_neighbors_dict2[id_entity_2[int(row['head'])]].append(tail_str)\n",
    "    \n",
    "    if not id_entity_2[int(row['tail'])] in id_neighbors_dict2.keys():\n",
    "        id_neighbors_dict2[id_entity_2[int(row['tail'])]] = [tail_str]\n",
    "    if not head_str in id_neighbors_dict2[id_entity_2[int(row['tail'])]]:\n",
    "        id_neighbors_dict2[id_entity_2[int(row['tail'])]].append(head_str)"
   ]
  },
  {
   "cell_type": "code",
   "execution_count": 20,
   "metadata": {},
   "outputs": [],
   "source": [
    "list_at1 = []\n",
    "_num = []\n",
    "for _id2 in fail_ids2_at10:\n",
    "    _id1 = link[_id2]\n",
    "    tempdict = {}\n",
    "    tempdict['fr_entity'] = id_entity_1[_id1]\n",
    "    tempdict['fr_entity_neighbors'] = id_neighbors_dict1[id_entity_1[_id1]][1:]\n",
    "    tempdict['fr_entity_num'] = str(len(id_neighbors_dict1[id_entity_1[_id1]])-1)\n",
    "    tempdict['en_entity'] = id_entity_2[_id2]\n",
    "    tempdict['en_entity_neighbors'] = id_neighbors_dict2[id_entity_2[_id2]][1:]\n",
    "    tempdict['en_entity_num'] = str(len(id_neighbors_dict2[id_entity_2[_id2]])-1)\n",
    "    _num.append([len(id_neighbors_dict1[id_entity_1[_id1]])-1, len(id_neighbors_dict2[id_entity_2[_id2]])-1])\n",
    "\n",
    "    # tempdict['fr_entity'] = id_entity_1[_id1].strip('\\n')\n",
    "    # tempdict['fr_entity_neighbors'] = [item.strip('\\n') for item in id_neighbors_dict1[id_entity_1[_id1]]]\n",
    "    # tempdict['en_entity'] = id_entity_2[_id2].strip('\\n')\n",
    "    # tempdict['en_entity_neighbors'] = [item.strip('\\n') for item in id_neighbors_dict2[id_entity_2[_id2]]]\n",
    "    \n",
    "    list_at1.append(tempdict)"
   ]
  },
  {
   "cell_type": "code",
   "execution_count": 8,
   "metadata": {},
   "outputs": [],
   "source": [
    "import json\n",
    "with open(FAIL_DIR + '/fr_failed_hit10','w', encoding='utf-8') as f:\n",
    "    for my_dict in list_at1:\n",
    "        for item in my_dict.items():\n",
    "            json.dump(item, f, ensure_ascii=False)\n",
    "            f.write('\\n')\n",
    "            if item[0] == 'en_entity_num':\n",
    "                f.write('\\n')"
   ]
  },
  {
   "cell_type": "code",
   "execution_count": 29,
   "metadata": {},
   "outputs": [],
   "source": [
    "import pickle\n",
    " \n",
    "f = open('fr_num.pckl', 'wb')\n",
    "pickle.dump(_num, f)\n",
    "f.close()"
   ]
  },
  {
   "cell_type": "code",
   "execution_count": 28,
   "metadata": {},
   "outputs": [
    {
     "data": {
      "text/plain": [
       "[<matplotlib.lines.Line2D at 0x7f6b4c698be0>]"
      ]
     },
     "execution_count": 28,
     "metadata": {},
     "output_type": "execute_result"
    },
    {
     "data": {
      "image/png": "[encoded data removed]",
      "text/plain": [
       "<Figure size 640x480 with 1 Axes>"
      ]
     },
     "metadata": {},
     "output_type": "display_data"
    }
   ],
   "source": [
    "import collections\n",
    "\n",
    "\n",
    "result = collections.Counter(np.array(_num)[:,0])\n",
    "# _num[:,1]\n",
    "# print(np.array(_num)[:,0])\n",
    "# print(result)\n",
    "x = np.arange(0, len(result))\n",
    "y = list(result.values())\n",
    "y.sort(reverse=True)\n",
    "plt.plot(x,y)\n"
   ]
  },
  {
   "cell_type": "code",
   "execution_count": null,
   "metadata": {},
   "outputs": [],
   "source": [
    "fig = plt.figure()\n",
    "#选择图纸1\n",
    "ax1=plt.subplot(1,2,1) \n",
    "plt.yscale('log')\n",
    "plt.plot(src_ent_x, src_ent_y, color='red',label='src-ent')\n",
    "plt.plot(tgt_ent_x, tgt_ent_y, color='blue',label='tgt-ent')\n",
    "# plt.axis([0, 100000, 0, 2000])\n",
    "plt.xlabel('Entity Num')\n",
    "plt.ylabel('Edge Num (log)')\n",
    "plt.legend(loc = 'best')\n",
    "plt.title('Long Tail Statistics of Entity')\n",
    "plt.grid()"
   ]
  }
 ],
 "metadata": {
  "kernelspec": {
   "display_name": "Python 3.9.14 ('selfkg')",
   "language": "python",
   "name": "python3"
  },
  "language_info": {
   "codemirror_mode": {
    "name": "ipython",
    "version": 3
   },
   "file_extension": ".py",
   "mimetype": "text/x-python",
   "name": "python",
   "nbconvert_exporter": "python",
   "pygments_lexer": "ipython3",
   "version": "3.9.14"
  },
  "orig_nbformat": 4,
  "vscode": {
   "interpreter": {
    "hash": "c10886b160ef380b9a9899d7cd46ed4ff0f65536336b80e7f9abe4df9e948776"
   }
  }
 },
 "nbformat": 4,
 "nbformat_minor": 2
}
